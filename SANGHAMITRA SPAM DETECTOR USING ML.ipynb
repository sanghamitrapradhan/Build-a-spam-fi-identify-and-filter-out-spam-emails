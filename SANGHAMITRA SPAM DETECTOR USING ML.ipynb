{
 "cells": [
  {
   "cell_type": "code",
   "execution_count": 1,
   "id": "039b0d84",
   "metadata": {},
   "outputs": [
    {
     "name": "stdout",
     "output_type": "stream",
     "text": [
      "Training Accuracy: 0.9661207089970832\n",
      "Testing Accuracy: 0.9623318385650225\n",
      "Overall Accuracy: 0.9623318385650225\n",
      "\n",
      "Confusion Matrix:\n",
      " [[114  41]\n",
      " [  1 959]]\n",
      "\n",
      "Classification Report:\n",
      "               precision    recall  f1-score   support\n",
      "\n",
      "           0       0.99      0.74      0.84       155\n",
      "           1       0.96      1.00      0.98       960\n",
      "\n",
      "    accuracy                           0.96      1115\n",
      "   macro avg       0.98      0.87      0.91      1115\n",
      "weighted avg       0.96      0.96      0.96      1115\n",
      "\n"
     ]
    }
   ],
   "source": [
    "import pandas as pd\n",
    "import numpy as np\n",
    "from sklearn.model_selection import train_test_split\n",
    "from sklearn.linear_model import LogisticRegression\n",
    "from sklearn.feature_extraction.text import TfidfVectorizer\n",
    "from sklearn.metrics import confusion_matrix, classification_report, accuracy_score\n",
    "\n",
    "df = pd.read_csv(\"C:/Users/HP/Downloads/spam.csv\", encoding=\"latin1\")\n",
    "\n",
    "df.drop(columns=['Unnamed: 2', 'Unnamed: 3', 'Unnamed: 4'], inplace=True)\n",
    "\n",
    "df.columns = ['spam/ham', 'sms']\n",
    "\n",
    "df['spam/ham'] = df['spam/ham'].map({'spam': 0, 'ham': 1})\n",
    "\n",
    "x = df.sms\n",
    "y = df['spam/ham']\n",
    "\n",
    "xtrain, xtest, ytrain, ytest = train_test_split(x, y, test_size=0.2, random_state=3)\n",
    "\n",
    "\n",
    "ytrain = ytrain.astype('int')\n",
    "ytest = ytest.astype('int')\n",
    "\n",
    "\n",
    "feat_vect = TfidfVectorizer(min_df=1, stop_words='english', lowercase=True)\n",
    "\n",
    "\n",
    "xtrain_vec = feat_vect.fit_transform(xtrain)\n",
    "xtest_vec = feat_vect.transform(xtest)\n",
    "\n",
    "\n",
    "logi = LogisticRegression()\n",
    "\n",
    "\n",
    "logi.fit(xtrain_vec, ytrain)\n",
    "\n",
    "train_accuracy = logi.score(xtrain_vec, ytrain)\n",
    "test_accuracy = logi.score(xtest_vec, ytest)\n",
    "\n",
    "\n",
    "pred_logi = logi.predict(xtest_vec)\n",
    "\n",
    "accuracy = accuracy_score(ytest, pred_logi)\n",
    "conf_matrix = confusion_matrix(ytest, pred_logi)\n",
    "class_report = classification_report(ytest, pred_logi)\n",
    "\n",
    "print(\"Training Accuracy:\", train_accuracy)\n",
    "print(\"Testing Accuracy:\", test_accuracy)\n",
    "print(\"Overall Accuracy:\", accuracy)\n",
    "print(\"\\nConfusion Matrix:\\n\", conf_matrix)\n",
    "print(\"\\nClassification Report:\\n\", class_report)\n"
   ]
  },
  {
   "cell_type": "code",
   "execution_count": null,
   "id": "78d7f94c",
   "metadata": {},
   "outputs": [],
   "source": []
  }
 ],
 "metadata": {
  "kernelspec": {
   "display_name": "Python 3 (ipykernel)",
   "language": "python",
   "name": "python3"
  },
  "language_info": {
   "codemirror_mode": {
    "name": "ipython",
    "version": 3
   },
   "file_extension": ".py",
   "mimetype": "text/x-python",
   "name": "python",
   "nbconvert_exporter": "python",
   "pygments_lexer": "ipython3",
   "version": "3.11.5"
  }
 },
 "nbformat": 4,
 "nbformat_minor": 5
}
